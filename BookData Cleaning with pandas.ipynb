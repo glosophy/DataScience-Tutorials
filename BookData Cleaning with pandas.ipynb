{
  "nbformat": 4,
  "nbformat_minor": 0,
  "metadata": {
    "colab": {
      "name": "Copy of DataCleaningPandas.ipynb",
      "provenance": [],
      "collapsed_sections": []
    },
    "kernelspec": {
      "name": "python3",
      "display_name": "Python 3"
    }
  },
  "cells": [
    {
      "cell_type": "code",
      "metadata": {
        "id": "uuaS5EgXVeS8",
        "colab_type": "code",
        "colab": {}
      },
      "source": [
        "import pandas as pd\n",
        "import numpy as np"
      ],
      "execution_count": 3,
      "outputs": []
    },
    {
      "cell_type": "markdown",
      "metadata": {
        "id": "iNVfr59IYbYK",
        "colab_type": "text"
      },
      "source": [
        "# Cleaning a .csv dataset using pandas\n",
        "In this tutorial, we will use a dataset about books, which includes features like date and place of publication, edition, author, etc. The data comes in a Comma Separated Value (csv) format. However, each cell is not uniform and contains multiple missing values.\n",
        "\n",
        "After reading the dataset using `pd.read_csv`, we print the first 5 rows."
      ]
    },
    {
      "cell_type": "code",
      "metadata": {
        "id": "jt5SW3J5WEoU",
        "colab_type": "code",
        "colab": {}
      },
      "source": [
        "url = 'https://raw.githubusercontent.com/realpython/python-data-cleaning/master/Datasets/BL-Flickr-Images-Book.csv'\n",
        "df = pd.read_csv(url)"
      ],
      "execution_count": 4,
      "outputs": []
    },
    {
      "cell_type": "code",
      "metadata": {
        "id": "DqdOWFnkWR7n",
        "colab_type": "code",
        "colab": {
          "base_uri": "https://localhost:8080/",
          "height": 102
        },
        "outputId": "23b51e2e-ca25-4a6b-8af8-2b246bf9eb71"
      },
      "source": [
        "df.columns"
      ],
      "execution_count": 5,
      "outputs": [
        {
          "output_type": "execute_result",
          "data": {
            "text/plain": [
              "Index(['Identifier', 'Edition Statement', 'Place of Publication',\n",
              "       'Date of Publication', 'Publisher', 'Title', 'Author', 'Contributors',\n",
              "       'Corporate Author', 'Corporate Contributors', 'Former owner',\n",
              "       'Engraver', 'Issuance type', 'Flickr URL', 'Shelfmarks'],\n",
              "      dtype='object')"
            ]
          },
          "metadata": {
            "tags": []
          },
          "execution_count": 5
        }
      ]
    },
    {
      "cell_type": "code",
      "metadata": {
        "id": "GD5gWabPCQ0M",
        "colab_type": "code",
        "colab": {
          "base_uri": "https://localhost:8080/",
          "height": 513
        },
        "outputId": "b7372619-ac66-4399-fbd9-4e57c8231dd2"
      },
      "source": [
        "df.head(5)"
      ],
      "execution_count": 6,
      "outputs": [
        {
          "output_type": "execute_result",
          "data": {
            "text/html": [
              "<div>\n",
              "<style scoped>\n",
              "    .dataframe tbody tr th:only-of-type {\n",
              "        vertical-align: middle;\n",
              "    }\n",
              "\n",
              "    .dataframe tbody tr th {\n",
              "        vertical-align: top;\n",
              "    }\n",
              "\n",
              "    .dataframe thead th {\n",
              "        text-align: right;\n",
              "    }\n",
              "</style>\n",
              "<table border=\"1\" class=\"dataframe\">\n",
              "  <thead>\n",
              "    <tr style=\"text-align: right;\">\n",
              "      <th></th>\n",
              "      <th>Identifier</th>\n",
              "      <th>Edition Statement</th>\n",
              "      <th>Place of Publication</th>\n",
              "      <th>Date of Publication</th>\n",
              "      <th>Publisher</th>\n",
              "      <th>Title</th>\n",
              "      <th>Author</th>\n",
              "      <th>Contributors</th>\n",
              "      <th>Corporate Author</th>\n",
              "      <th>Corporate Contributors</th>\n",
              "      <th>Former owner</th>\n",
              "      <th>Engraver</th>\n",
              "      <th>Issuance type</th>\n",
              "      <th>Flickr URL</th>\n",
              "      <th>Shelfmarks</th>\n",
              "    </tr>\n",
              "  </thead>\n",
              "  <tbody>\n",
              "    <tr>\n",
              "      <th>0</th>\n",
              "      <td>206</td>\n",
              "      <td>NaN</td>\n",
              "      <td>London</td>\n",
              "      <td>1879 [1878]</td>\n",
              "      <td>S. Tinsley &amp; Co.</td>\n",
              "      <td>Walter Forbes. [A novel.] By A. A</td>\n",
              "      <td>A. A.</td>\n",
              "      <td>FORBES, Walter.</td>\n",
              "      <td>NaN</td>\n",
              "      <td>NaN</td>\n",
              "      <td>NaN</td>\n",
              "      <td>NaN</td>\n",
              "      <td>monographic</td>\n",
              "      <td>http://www.flickr.com/photos/britishlibrary/ta...</td>\n",
              "      <td>British Library HMNTS 12641.b.30.</td>\n",
              "    </tr>\n",
              "    <tr>\n",
              "      <th>1</th>\n",
              "      <td>216</td>\n",
              "      <td>NaN</td>\n",
              "      <td>London; Virtue &amp; Yorston</td>\n",
              "      <td>1868</td>\n",
              "      <td>Virtue &amp; Co.</td>\n",
              "      <td>All for Greed. [A novel. The dedication signed...</td>\n",
              "      <td>A., A. A.</td>\n",
              "      <td>BLAZE DE BURY, Marie Pauline Rose - Baroness</td>\n",
              "      <td>NaN</td>\n",
              "      <td>NaN</td>\n",
              "      <td>NaN</td>\n",
              "      <td>NaN</td>\n",
              "      <td>monographic</td>\n",
              "      <td>http://www.flickr.com/photos/britishlibrary/ta...</td>\n",
              "      <td>British Library HMNTS 12626.cc.2.</td>\n",
              "    </tr>\n",
              "    <tr>\n",
              "      <th>2</th>\n",
              "      <td>218</td>\n",
              "      <td>NaN</td>\n",
              "      <td>London</td>\n",
              "      <td>1869</td>\n",
              "      <td>Bradbury, Evans &amp; Co.</td>\n",
              "      <td>Love the Avenger. By the author of “All for Gr...</td>\n",
              "      <td>A., A. A.</td>\n",
              "      <td>BLAZE DE BURY, Marie Pauline Rose - Baroness</td>\n",
              "      <td>NaN</td>\n",
              "      <td>NaN</td>\n",
              "      <td>NaN</td>\n",
              "      <td>NaN</td>\n",
              "      <td>monographic</td>\n",
              "      <td>http://www.flickr.com/photos/britishlibrary/ta...</td>\n",
              "      <td>British Library HMNTS 12625.dd.1.</td>\n",
              "    </tr>\n",
              "    <tr>\n",
              "      <th>3</th>\n",
              "      <td>472</td>\n",
              "      <td>NaN</td>\n",
              "      <td>London</td>\n",
              "      <td>1851</td>\n",
              "      <td>James Darling</td>\n",
              "      <td>Welsh Sketches, chiefly ecclesiastical, to the...</td>\n",
              "      <td>A., E. S.</td>\n",
              "      <td>Appleyard, Ernest Silvanus.</td>\n",
              "      <td>NaN</td>\n",
              "      <td>NaN</td>\n",
              "      <td>NaN</td>\n",
              "      <td>NaN</td>\n",
              "      <td>monographic</td>\n",
              "      <td>http://www.flickr.com/photos/britishlibrary/ta...</td>\n",
              "      <td>British Library HMNTS 10369.bbb.15.</td>\n",
              "    </tr>\n",
              "    <tr>\n",
              "      <th>4</th>\n",
              "      <td>480</td>\n",
              "      <td>A new edition, revised, etc.</td>\n",
              "      <td>London</td>\n",
              "      <td>1857</td>\n",
              "      <td>Wertheim &amp; Macintosh</td>\n",
              "      <td>[The World in which I live, and my place in it...</td>\n",
              "      <td>A., E. S.</td>\n",
              "      <td>BROOME, John Henry.</td>\n",
              "      <td>NaN</td>\n",
              "      <td>NaN</td>\n",
              "      <td>NaN</td>\n",
              "      <td>NaN</td>\n",
              "      <td>monographic</td>\n",
              "      <td>http://www.flickr.com/photos/britishlibrary/ta...</td>\n",
              "      <td>British Library HMNTS 9007.d.28.</td>\n",
              "    </tr>\n",
              "  </tbody>\n",
              "</table>\n",
              "</div>"
            ],
            "text/plain": [
              "   Identifier  ...                           Shelfmarks\n",
              "0         206  ...    British Library HMNTS 12641.b.30.\n",
              "1         216  ...    British Library HMNTS 12626.cc.2.\n",
              "2         218  ...    British Library HMNTS 12625.dd.1.\n",
              "3         472  ...  British Library HMNTS 10369.bbb.15.\n",
              "4         480  ...     British Library HMNTS 9007.d.28.\n",
              "\n",
              "[5 rows x 15 columns]"
            ]
          },
          "metadata": {
            "tags": []
          },
          "execution_count": 6
        }
      ]
    },
    {
      "cell_type": "markdown",
      "metadata": {
        "id": "5s9oe4ZBZ3r7",
        "colab_type": "text"
      },
      "source": [
        "Using df.info we can see the type of each feature under `dtype`. Also we can count how many non-null values are under each column."
      ]
    },
    {
      "cell_type": "code",
      "metadata": {
        "id": "eeWnNiHYEGx9",
        "colab_type": "code",
        "colab": {
          "base_uri": "https://localhost:8080/",
          "height": 391
        },
        "outputId": "1cab7193-8837-42f4-9bd5-aea39715309c"
      },
      "source": [
        "df.info()"
      ],
      "execution_count": 7,
      "outputs": [
        {
          "output_type": "stream",
          "text": [
            "<class 'pandas.core.frame.DataFrame'>\n",
            "RangeIndex: 8287 entries, 0 to 8286\n",
            "Data columns (total 15 columns):\n",
            " #   Column                  Non-Null Count  Dtype  \n",
            "---  ------                  --------------  -----  \n",
            " 0   Identifier              8287 non-null   int64  \n",
            " 1   Edition Statement       773 non-null    object \n",
            " 2   Place of Publication    8287 non-null   object \n",
            " 3   Date of Publication     8106 non-null   object \n",
            " 4   Publisher               4092 non-null   object \n",
            " 5   Title                   8287 non-null   object \n",
            " 6   Author                  6509 non-null   object \n",
            " 7   Contributors            8287 non-null   object \n",
            " 8   Corporate Author        0 non-null      float64\n",
            " 9   Corporate Contributors  0 non-null      float64\n",
            " 10  Former owner            1 non-null      object \n",
            " 11  Engraver                0 non-null      float64\n",
            " 12  Issuance type           8287 non-null   object \n",
            " 13  Flickr URL              8287 non-null   object \n",
            " 14  Shelfmarks              8287 non-null   object \n",
            "dtypes: float64(3), int64(1), object(11)\n",
            "memory usage: 971.3+ KB\n"
          ],
          "name": "stdout"
        }
      ]
    },
    {
      "cell_type": "markdown",
      "metadata": {
        "id": "l-BWr0J4FdZq",
        "colab_type": "text"
      },
      "source": [
        "# Step #1. Drop irrelevant data\n",
        "\n",
        "Some columns aren't very descriptive of the books themselves. We decided to drop the following columns:"
      ]
    },
    {
      "cell_type": "code",
      "metadata": {
        "id": "cqm8KHkMEYzO",
        "colab_type": "code",
        "colab": {}
      },
      "source": [
        "to_drop = ['Edition Statement', 'Corporate Author', 'Corporate Contributors', 'Former owner',\n",
        "           'Engraver', 'Issuance type', 'Shelfmarks']\n",
        "\n",
        "df.drop(to_drop, inplace=True, axis=1)"
      ],
      "execution_count": 8,
      "outputs": []
    },
    {
      "cell_type": "markdown",
      "metadata": {
        "id": "YjazlHa8GahL",
        "colab_type": "text"
      },
      "source": [
        "# Step #2. Identify a unique identifier as \"index\"\n",
        "\n",
        "We replaced the existing index with the column `Identifier` column using `set_index`. This way a librarian may input the unique identifier when searching for a book."
      ]
    },
    {
      "cell_type": "code",
      "metadata": {
        "id": "s5Rd1PxRFV0R",
        "colab_type": "code",
        "colab": {}
      },
      "source": [
        "df = df.set_index('Identifier')"
      ],
      "execution_count": 9,
      "outputs": []
    },
    {
      "cell_type": "markdown",
      "metadata": {
        "id": "xQWJiP0IbmNW",
        "colab_type": "text"
      },
      "source": [
        "# Step #3. Normalize the column \"Date of Publication\""
      ]
    },
    {
      "cell_type": "code",
      "metadata": {
        "id": "1wTflsZbGMMj",
        "colab_type": "code",
        "colab": {
          "base_uri": "https://localhost:8080/",
          "height": 153
        },
        "outputId": "a1840c64-595e-479c-c9bd-b705f2258a6a"
      },
      "source": [
        "df.loc[216]"
      ],
      "execution_count": 10,
      "outputs": [
        {
          "output_type": "execute_result",
          "data": {
            "text/plain": [
              "Place of Publication                             London; Virtue & Yorston\n",
              "Date of Publication                                                  1868\n",
              "Publisher                                                    Virtue & Co.\n",
              "Title                   All for Greed. [A novel. The dedication signed...\n",
              "Author                                                          A., A. A.\n",
              "Contributors                 BLAZE DE BURY, Marie Pauline Rose - Baroness\n",
              "Flickr URL              http://www.flickr.com/photos/britishlibrary/ta...\n",
              "Name: 216, dtype: object"
            ]
          },
          "metadata": {
            "tags": []
          },
          "execution_count": 10
        }
      ]
    },
    {
      "cell_type": "markdown",
      "metadata": {
        "id": "_L8fqOe_LWFj",
        "colab_type": "text"
      },
      "source": [
        "A particular book can have only one date of publication. Therefore, we need to do the following:\n",
        "\n",
        "*   Remove the extra dates in square brackets, wherever present: 1879 [1878]\n",
        "*   Convert date ranges to their “start date”, wherever present: 1860-63; 1839, 38-54\n",
        "*   Completely remove the dates we are not certain about and replace them with NumPy’s NaN: [1897?]\n",
        "*   Convert the string nan to NumPy’s NaN value\n"
      ]
    },
    {
      "cell_type": "markdown",
      "metadata": {
        "id": "ZsOVPmIYL-rH",
        "colab_type": "text"
      },
      "source": [
        "We can use a single regular expression to extract the publication year:"
      ]
    },
    {
      "cell_type": "code",
      "metadata": {
        "id": "4OFlVj4mMQX6",
        "colab_type": "code",
        "colab": {}
      },
      "source": [
        "regex = r'^(\\d{4})'"
      ],
      "execution_count": 11,
      "outputs": []
    },
    {
      "cell_type": "markdown",
      "metadata": {
        "id": "8WeYU1Z-MToc",
        "colab_type": "text"
      },
      "source": [
        "The regular expression above is meant to find any four digits at the beginning of a string, which suffices for our case. The above is a raw string (meaning that a backslash is no longer an escape character), which is standard practice with regular expressions."
      ]
    },
    {
      "cell_type": "code",
      "metadata": {
        "id": "Tv5WE5XvMSNV",
        "colab_type": "code",
        "colab": {
          "base_uri": "https://localhost:8080/",
          "height": 136
        },
        "outputId": "a454ff4c-617a-44e4-ad24-72016409b9fc"
      },
      "source": [
        "extr = df['Date of Publication'].str.extract(r'^(\\d{4})', expand=False)\n",
        "extr.head()"
      ],
      "execution_count": 12,
      "outputs": [
        {
          "output_type": "execute_result",
          "data": {
            "text/plain": [
              "Identifier\n",
              "206    1879\n",
              "216    1868\n",
              "218    1869\n",
              "472    1851\n",
              "480    1857\n",
              "Name: Date of Publication, dtype: object"
            ]
          },
          "metadata": {
            "tags": []
          },
          "execution_count": 12
        }
      ]
    },
    {
      "cell_type": "code",
      "metadata": {
        "id": "o995F4n4MadA",
        "colab_type": "code",
        "colab": {
          "base_uri": "https://localhost:8080/",
          "height": 34
        },
        "outputId": "300f98c0-594f-4226-98aa-2caa79e420bd"
      },
      "source": [
        "df['Date of Publication'] = pd.to_numeric(extr)\n",
        "df['Date of Publication'].dtype"
      ],
      "execution_count": 13,
      "outputs": [
        {
          "output_type": "execute_result",
          "data": {
            "text/plain": [
              "dtype('float64')"
            ]
          },
          "metadata": {
            "tags": []
          },
          "execution_count": 13
        }
      ]
    },
    {
      "cell_type": "code",
      "metadata": {
        "id": "dR99LoN2Nxoi",
        "colab_type": "code",
        "colab": {
          "base_uri": "https://localhost:8080/",
          "height": 34
        },
        "outputId": "6cfc2c43-6582-4452-bc39-c55f222dfb95"
      },
      "source": [
        "df['Date of Publication'].isnull().sum() / len(df)"
      ],
      "execution_count": 14,
      "outputs": [
        {
          "output_type": "execute_result",
          "data": {
            "text/plain": [
              "0.11717147339205986"
            ]
          },
          "metadata": {
            "tags": []
          },
          "execution_count": 14
        }
      ]
    },
    {
      "cell_type": "code",
      "metadata": {
        "id": "ZVWWTDzncK8i",
        "colab_type": "code",
        "colab": {
          "base_uri": "https://localhost:8080/",
          "height": 654
        },
        "outputId": "ab4b8d58-957e-453b-877c-e3cf4a4c767a"
      },
      "source": [
        "df"
      ],
      "execution_count": 15,
      "outputs": [
        {
          "output_type": "execute_result",
          "data": {
            "text/html": [
              "<div>\n",
              "<style scoped>\n",
              "    .dataframe tbody tr th:only-of-type {\n",
              "        vertical-align: middle;\n",
              "    }\n",
              "\n",
              "    .dataframe tbody tr th {\n",
              "        vertical-align: top;\n",
              "    }\n",
              "\n",
              "    .dataframe thead th {\n",
              "        text-align: right;\n",
              "    }\n",
              "</style>\n",
              "<table border=\"1\" class=\"dataframe\">\n",
              "  <thead>\n",
              "    <tr style=\"text-align: right;\">\n",
              "      <th></th>\n",
              "      <th>Place of Publication</th>\n",
              "      <th>Date of Publication</th>\n",
              "      <th>Publisher</th>\n",
              "      <th>Title</th>\n",
              "      <th>Author</th>\n",
              "      <th>Contributors</th>\n",
              "      <th>Flickr URL</th>\n",
              "    </tr>\n",
              "    <tr>\n",
              "      <th>Identifier</th>\n",
              "      <th></th>\n",
              "      <th></th>\n",
              "      <th></th>\n",
              "      <th></th>\n",
              "      <th></th>\n",
              "      <th></th>\n",
              "      <th></th>\n",
              "    </tr>\n",
              "  </thead>\n",
              "  <tbody>\n",
              "    <tr>\n",
              "      <th>206</th>\n",
              "      <td>London</td>\n",
              "      <td>1879.0</td>\n",
              "      <td>S. Tinsley &amp; Co.</td>\n",
              "      <td>Walter Forbes. [A novel.] By A. A</td>\n",
              "      <td>A. A.</td>\n",
              "      <td>FORBES, Walter.</td>\n",
              "      <td>http://www.flickr.com/photos/britishlibrary/ta...</td>\n",
              "    </tr>\n",
              "    <tr>\n",
              "      <th>216</th>\n",
              "      <td>London; Virtue &amp; Yorston</td>\n",
              "      <td>1868.0</td>\n",
              "      <td>Virtue &amp; Co.</td>\n",
              "      <td>All for Greed. [A novel. The dedication signed...</td>\n",
              "      <td>A., A. A.</td>\n",
              "      <td>BLAZE DE BURY, Marie Pauline Rose - Baroness</td>\n",
              "      <td>http://www.flickr.com/photos/britishlibrary/ta...</td>\n",
              "    </tr>\n",
              "    <tr>\n",
              "      <th>218</th>\n",
              "      <td>London</td>\n",
              "      <td>1869.0</td>\n",
              "      <td>Bradbury, Evans &amp; Co.</td>\n",
              "      <td>Love the Avenger. By the author of “All for Gr...</td>\n",
              "      <td>A., A. A.</td>\n",
              "      <td>BLAZE DE BURY, Marie Pauline Rose - Baroness</td>\n",
              "      <td>http://www.flickr.com/photos/britishlibrary/ta...</td>\n",
              "    </tr>\n",
              "    <tr>\n",
              "      <th>472</th>\n",
              "      <td>London</td>\n",
              "      <td>1851.0</td>\n",
              "      <td>James Darling</td>\n",
              "      <td>Welsh Sketches, chiefly ecclesiastical, to the...</td>\n",
              "      <td>A., E. S.</td>\n",
              "      <td>Appleyard, Ernest Silvanus.</td>\n",
              "      <td>http://www.flickr.com/photos/britishlibrary/ta...</td>\n",
              "    </tr>\n",
              "    <tr>\n",
              "      <th>480</th>\n",
              "      <td>London</td>\n",
              "      <td>1857.0</td>\n",
              "      <td>Wertheim &amp; Macintosh</td>\n",
              "      <td>[The World in which I live, and my place in it...</td>\n",
              "      <td>A., E. S.</td>\n",
              "      <td>BROOME, John Henry.</td>\n",
              "      <td>http://www.flickr.com/photos/britishlibrary/ta...</td>\n",
              "    </tr>\n",
              "    <tr>\n",
              "      <th>...</th>\n",
              "      <td>...</td>\n",
              "      <td>...</td>\n",
              "      <td>...</td>\n",
              "      <td>...</td>\n",
              "      <td>...</td>\n",
              "      <td>...</td>\n",
              "      <td>...</td>\n",
              "    </tr>\n",
              "    <tr>\n",
              "      <th>4158088</th>\n",
              "      <td>London</td>\n",
              "      <td>1838.0</td>\n",
              "      <td>NaN</td>\n",
              "      <td>The Parochial History of Cornwall, founded on,...</td>\n",
              "      <td>GIDDY, afterwards GILBERT, Davies.</td>\n",
              "      <td>BOASE, Henry Samuel.|HALS, William.|LYSONS, Da...</td>\n",
              "      <td>http://www.flickr.com/photos/britishlibrary/ta...</td>\n",
              "    </tr>\n",
              "    <tr>\n",
              "      <th>4158128</th>\n",
              "      <td>Derby</td>\n",
              "      <td>1831.0</td>\n",
              "      <td>M. Mozley &amp; Son</td>\n",
              "      <td>The History and Gazetteer of the County of Der...</td>\n",
              "      <td>GLOVER, Stephen - of Derby</td>\n",
              "      <td>NOBLE, Thomas.</td>\n",
              "      <td>http://www.flickr.com/photos/britishlibrary/ta...</td>\n",
              "    </tr>\n",
              "    <tr>\n",
              "      <th>4159563</th>\n",
              "      <td>London</td>\n",
              "      <td>NaN</td>\n",
              "      <td>T. Cadell and W. Davies</td>\n",
              "      <td>Magna Britannia; being a concise topographical...</td>\n",
              "      <td>LYSONS, Daniel - M.A., F.R.S., and LYSONS (Sam...</td>\n",
              "      <td>GREGSON, Matthew.|LYSONS, Samuel - F.R.S</td>\n",
              "      <td>http://www.flickr.com/photos/britishlibrary/ta...</td>\n",
              "    </tr>\n",
              "    <tr>\n",
              "      <th>4159587</th>\n",
              "      <td>Newcastle upon Tyne</td>\n",
              "      <td>1834.0</td>\n",
              "      <td>Mackenzie &amp; Dent</td>\n",
              "      <td>An historical, topographical and descriptive v...</td>\n",
              "      <td>Mackenzie, E. (Eneas)</td>\n",
              "      <td>ROSS, M. - of Durham</td>\n",
              "      <td>http://www.flickr.com/photos/britishlibrary/ta...</td>\n",
              "    </tr>\n",
              "    <tr>\n",
              "      <th>4160339</th>\n",
              "      <td>London</td>\n",
              "      <td>1834.0</td>\n",
              "      <td>NaN</td>\n",
              "      <td>Collectanea Topographica et Genealogica. [Firs...</td>\n",
              "      <td>NaN</td>\n",
              "      <td>BANDINEL, Bulkeley.|Nichols, John Gough</td>\n",
              "      <td>http://www.flickr.com/photos/britishlibrary/ta...</td>\n",
              "    </tr>\n",
              "  </tbody>\n",
              "</table>\n",
              "<p>8287 rows × 7 columns</p>\n",
              "</div>"
            ],
            "text/plain": [
              "                Place of Publication  ...                                         Flickr URL\n",
              "Identifier                            ...                                                   \n",
              "206                           London  ...  http://www.flickr.com/photos/britishlibrary/ta...\n",
              "216         London; Virtue & Yorston  ...  http://www.flickr.com/photos/britishlibrary/ta...\n",
              "218                           London  ...  http://www.flickr.com/photos/britishlibrary/ta...\n",
              "472                           London  ...  http://www.flickr.com/photos/britishlibrary/ta...\n",
              "480                           London  ...  http://www.flickr.com/photos/britishlibrary/ta...\n",
              "...                              ...  ...                                                ...\n",
              "4158088                       London  ...  http://www.flickr.com/photos/britishlibrary/ta...\n",
              "4158128                        Derby  ...  http://www.flickr.com/photos/britishlibrary/ta...\n",
              "4159563                       London  ...  http://www.flickr.com/photos/britishlibrary/ta...\n",
              "4159587          Newcastle upon Tyne  ...  http://www.flickr.com/photos/britishlibrary/ta...\n",
              "4160339                       London  ...  http://www.flickr.com/photos/britishlibrary/ta...\n",
              "\n",
              "[8287 rows x 7 columns]"
            ]
          },
          "metadata": {
            "tags": []
          },
          "execution_count": 15
        }
      ]
    },
    {
      "cell_type": "markdown",
      "metadata": {
        "id": "_qKRo_iqN7aa",
        "colab_type": "text"
      },
      "source": [
        "# Step #4. Combining `str` Methods with NumPy to Clean Columns\n",
        "\n",
        "To clean the `Place of Publication` field, we can combine pandas `str` methods with NumPy’s `np.where` function, which is basically a vectorized form of Excel’s IF() macro."
      ]
    },
    {
      "cell_type": "markdown",
      "metadata": {
        "id": "Fes6kfiXOx5I",
        "colab_type": "text"
      },
      "source": [
        "Let’s take a look at two specific entries:"
      ]
    },
    {
      "cell_type": "code",
      "metadata": {
        "id": "EiZveCe8OHay",
        "colab_type": "code",
        "colab": {
          "base_uri": "https://localhost:8080/",
          "height": 153
        },
        "outputId": "51918ace-8c64-45fc-b75d-9e1819e6dcde"
      },
      "source": [
        "df.loc[4157862]"
      ],
      "execution_count": 16,
      "outputs": [
        {
          "output_type": "execute_result",
          "data": {
            "text/plain": [
              "Place of Publication                                  Newcastle-upon-Tyne\n",
              "Date of Publication                                                  1867\n",
              "Publisher                                                      T. Fordyce\n",
              "Title                   Local Records; or, Historical Register of rema...\n",
              "Author                      FORDYCE, T. - Printer, of Newcastle-upon-Tyne\n",
              "Contributors             SYKES, John - Bookseller, of Newcastle-upon-Tyne\n",
              "Flickr URL              http://www.flickr.com/photos/britishlibrary/ta...\n",
              "Name: 4157862, dtype: object"
            ]
          },
          "metadata": {
            "tags": []
          },
          "execution_count": 16
        }
      ]
    },
    {
      "cell_type": "code",
      "metadata": {
        "id": "-_0JwCvXO5dP",
        "colab_type": "code",
        "colab": {
          "base_uri": "https://localhost:8080/",
          "height": 153
        },
        "outputId": "dd11fe04-0300-4284-d459-dab2e385fe65"
      },
      "source": [
        "df.loc[4159587]"
      ],
      "execution_count": 17,
      "outputs": [
        {
          "output_type": "execute_result",
          "data": {
            "text/plain": [
              "Place of Publication                                  Newcastle upon Tyne\n",
              "Date of Publication                                                  1834\n",
              "Publisher                                                Mackenzie & Dent\n",
              "Title                   An historical, topographical and descriptive v...\n",
              "Author                                              Mackenzie, E. (Eneas)\n",
              "Contributors                                         ROSS, M. - of Durham\n",
              "Flickr URL              http://www.flickr.com/photos/britishlibrary/ta...\n",
              "Name: 4159587, dtype: object"
            ]
          },
          "metadata": {
            "tags": []
          },
          "execution_count": 17
        }
      ]
    },
    {
      "cell_type": "markdown",
      "metadata": {
        "id": "HkbP6FA9PEZi",
        "colab_type": "text"
      },
      "source": [
        "These two books were published in the same place, but one has hyphens in the name of the place while the other does not.\n",
        "\n",
        "To clean this column in one sweep, we can use `str.contains()` to get a boolean mask."
      ]
    },
    {
      "cell_type": "code",
      "metadata": {
        "id": "Gn_F61RvPE-J",
        "colab_type": "code",
        "colab": {
          "base_uri": "https://localhost:8080/",
          "height": 136
        },
        "outputId": "1e035766-3821-44fa-9cec-a925ba1d5508"
      },
      "source": [
        "pub = df['Place of Publication']\n",
        "london = pub.str.contains('London')\n",
        "oxford = pub.str.contains('Oxford')\n",
        "df['Place of Publication'] = np.where(london, 'London', np.where(oxford, 'Oxford', pub.str.replace('-', ' ')))\n",
        "df['Place of Publication'].head()"
      ],
      "execution_count": 18,
      "outputs": [
        {
          "output_type": "execute_result",
          "data": {
            "text/plain": [
              "Identifier\n",
              "206    London\n",
              "216    London\n",
              "218    London\n",
              "472    London\n",
              "480    London\n",
              "Name: Place of Publication, dtype: object"
            ]
          },
          "metadata": {
            "tags": []
          },
          "execution_count": 18
        }
      ]
    },
    {
      "cell_type": "code",
      "metadata": {
        "id": "oeRaO5IpPgaN",
        "colab_type": "code",
        "colab": {
          "base_uri": "https://localhost:8080/",
          "height": 153
        },
        "outputId": "9ea7c8c0-5ae6-4a0c-e1f9-58db6531dec0"
      },
      "source": [
        "df.loc[4157862]"
      ],
      "execution_count": 19,
      "outputs": [
        {
          "output_type": "execute_result",
          "data": {
            "text/plain": [
              "Place of Publication                                  Newcastle upon Tyne\n",
              "Date of Publication                                                  1867\n",
              "Publisher                                                      T. Fordyce\n",
              "Title                   Local Records; or, Historical Register of rema...\n",
              "Author                      FORDYCE, T. - Printer, of Newcastle-upon-Tyne\n",
              "Contributors             SYKES, John - Bookseller, of Newcastle-upon-Tyne\n",
              "Flickr URL              http://www.flickr.com/photos/britishlibrary/ta...\n",
              "Name: 4157862, dtype: object"
            ]
          },
          "metadata": {
            "tags": []
          },
          "execution_count": 19
        }
      ]
    }
  ]
}